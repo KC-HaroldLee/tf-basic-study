{
 "cells": [
  {
   "cell_type": "markdown",
   "id": "8768aa6f",
   "metadata": {},
   "source": [
    "### 2.4 텐서플로우2 코드 맛보기"
   ]
  },
  {
   "cell_type": "code",
   "execution_count": 1,
   "id": "49c80aee",
   "metadata": {},
   "outputs": [],
   "source": [
    "import pandas as pd\n",
    "import numpy as np\n",
    "import tensorflow as tf\n",
    "\n",
    "import matplotlib.pyplot as plt\n",
    "%matplotlib inline\n",
    "\n",
    "import seaborn as sns\n",
    "sns.set(style='darkgrid')\n"
   ]
  },
  {
   "cell_type": "markdown",
   "id": "72e721ab",
   "metadata": {},
   "source": [
    "데이터를 불러온다"
   ]
  },
  {
   "cell_type": "code",
   "execution_count": 2,
   "id": "e2cbe799",
   "metadata": {},
   "outputs": [],
   "source": [
    "cols= ['price', 'maint', 'doors', 'persons', 'lug_capacity', 'safety', 'output']\n",
    "cars = pd.read_csv('./data/car_evaluation.csv', names=cols, header=None)\n",
    "# csv파일에는 헤더가 포함되어 있지 않으므로 header를 None으로 지정함"
   ]
  },
  {
   "cell_type": "code",
   "execution_count": 3,
   "id": "b0954ee8",
   "metadata": {},
   "outputs": [
    {
     "data": {
      "text/html": [
       "<div>\n",
       "<style scoped>\n",
       "    .dataframe tbody tr th:only-of-type {\n",
       "        vertical-align: middle;\n",
       "    }\n",
       "\n",
       "    .dataframe tbody tr th {\n",
       "        vertical-align: top;\n",
       "    }\n",
       "\n",
       "    .dataframe thead th {\n",
       "        text-align: right;\n",
       "    }\n",
       "</style>\n",
       "<table border=\"1\" class=\"dataframe\">\n",
       "  <thead>\n",
       "    <tr style=\"text-align: right;\">\n",
       "      <th></th>\n",
       "      <th>price</th>\n",
       "      <th>maint</th>\n",
       "      <th>doors</th>\n",
       "      <th>persons</th>\n",
       "      <th>lug_capacity</th>\n",
       "      <th>safety</th>\n",
       "      <th>output</th>\n",
       "    </tr>\n",
       "  </thead>\n",
       "  <tbody>\n",
       "    <tr>\n",
       "      <th>0</th>\n",
       "      <td>vhigh</td>\n",
       "      <td>vhigh</td>\n",
       "      <td>2</td>\n",
       "      <td>2</td>\n",
       "      <td>small</td>\n",
       "      <td>low</td>\n",
       "      <td>unacc</td>\n",
       "    </tr>\n",
       "    <tr>\n",
       "      <th>1</th>\n",
       "      <td>vhigh</td>\n",
       "      <td>vhigh</td>\n",
       "      <td>2</td>\n",
       "      <td>2</td>\n",
       "      <td>small</td>\n",
       "      <td>med</td>\n",
       "      <td>unacc</td>\n",
       "    </tr>\n",
       "    <tr>\n",
       "      <th>2</th>\n",
       "      <td>vhigh</td>\n",
       "      <td>vhigh</td>\n",
       "      <td>2</td>\n",
       "      <td>2</td>\n",
       "      <td>small</td>\n",
       "      <td>high</td>\n",
       "      <td>unacc</td>\n",
       "    </tr>\n",
       "    <tr>\n",
       "      <th>3</th>\n",
       "      <td>vhigh</td>\n",
       "      <td>vhigh</td>\n",
       "      <td>2</td>\n",
       "      <td>2</td>\n",
       "      <td>med</td>\n",
       "      <td>low</td>\n",
       "      <td>unacc</td>\n",
       "    </tr>\n",
       "    <tr>\n",
       "      <th>4</th>\n",
       "      <td>vhigh</td>\n",
       "      <td>vhigh</td>\n",
       "      <td>2</td>\n",
       "      <td>2</td>\n",
       "      <td>med</td>\n",
       "      <td>med</td>\n",
       "      <td>unacc</td>\n",
       "    </tr>\n",
       "  </tbody>\n",
       "</table>\n",
       "</div>"
      ],
      "text/plain": [
       "   price  maint doors persons lug_capacity safety output\n",
       "0  vhigh  vhigh     2       2        small    low  unacc\n",
       "1  vhigh  vhigh     2       2        small    med  unacc\n",
       "2  vhigh  vhigh     2       2        small   high  unacc\n",
       "3  vhigh  vhigh     2       2          med    low  unacc\n",
       "4  vhigh  vhigh     2       2          med    med  unacc"
      ]
     },
     "execution_count": 3,
     "metadata": {},
     "output_type": "execute_result"
    }
   ],
   "source": [
    "cars.head()"
   ]
  },
  {
   "cell_type": "markdown",
   "id": "73151e3d",
   "metadata": {},
   "source": [
    "데이터 분포를 파이 차트를 이용해서 살펴본다."
   ]
  },
  {
   "cell_type": "code",
   "execution_count": 4,
   "id": "a0c4fe2b",
   "metadata": {},
   "outputs": [
    {
     "data": {
      "text/plain": [
       "'unacc : 허용 불가능 | acc : 허용 | good : 구웃 | vgood : 베리구웃'"
      ]
     },
     "execution_count": 4,
     "metadata": {},
     "output_type": "execute_result"
    },
    {
     "data": {
      "image/png": "[encoded data removed]",
      "text/plain": [
       "<Figure size 576x432 with 1 Axes>"
      ]
     },
     "metadata": {},
     "output_type": "display_data"
    }
   ],
   "source": [
    "plot_size = plt.rcParams['figure.figsize'] #?\n",
    "plot_size[0] = 8\n",
    "plot_size[1] = 6\n",
    "plt.rcParams['figure.figsize'] = plot_size\n",
    "cars.output.value_counts().plot(kind='pie', autopct='%0.05f%%', colors=['lightblue', 'lightgreen', 'orange', 'pink'], explode=(0.05, 0.05, 0.05, 0.05))\n",
    "'''unacc : 허용 불가능 | acc : 허용 | good : 구웃 | vgood : 베리구웃'''"
   ]
  },
  {
   "cell_type": "markdown",
   "id": "26fb53f6",
   "metadata": {},
   "source": [
    "\\t원핫 인코딩을 한다.\n",
    "딥러닝은 통계 알고리즘을 기반으로 하기 때문에 범주 정보를 숫자로 변환해야한다. (numpy였었네)"
   ]
  },
  {
   "cell_type": "code",
   "execution_count": 5,
   "id": "6dadc782",
   "metadata": {},
   "outputs": [
    {
     "name": "stdout",
     "output_type": "stream",
     "text": [
      "데이터 타입 비교\n",
      "price > \n",
      "\t원핫 인코딩 전 : vhigh ...... <class 'str'>\n",
      "\t원핫 인코딩 후 : 0 ...... <class 'numpy.uint8'>\n"
     ]
    }
   ],
   "source": [
    "price = pd.get_dummies(cars.price, prefix='price')\n",
    "maint = pd.get_dummies(cars.maint, prefix='maint')\n",
    "doors = pd.get_dummies(cars.doors, prefix='doors')\n",
    "persons = pd.get_dummies(cars.persons, prefix='persons') # 오타 아닙니다...\n",
    "lug_capacity = pd.get_dummies(cars.lug_capacity, prefix='lug_capacity')\n",
    "safety = pd.get_dummies(cars.safety, prefix='safety')\n",
    "\n",
    "print('데이터 타입 비교')\n",
    "print('price > ')\n",
    "print(f'\\t원핫 인코딩 전 : {cars.price[0]} ...... {type(cars.price[0])}')\n",
    "print(f'\\t원핫 인코딩 후 : {price.loc[0][0]} ...... {type(price.loc[0][0])}')\n",
    "# 모두 같아서 생략함\n",
    "# print(price.head(), '\\n')\n"
   ]
  },
  {
   "cell_type": "markdown",
   "id": "3b520195",
   "metadata": {},
   "source": [
    "labels를 생성한다. 위와 다르게 output, 즉 y값을 정리하자"
   ]
  },
  {
   "cell_type": "code",
   "execution_count": 6,
   "id": "f15f84ca",
   "metadata": {},
   "outputs": [
    {
     "data": {
      "text/html": [
       "<div>\n",
       "<style scoped>\n",
       "    .dataframe tbody tr th:only-of-type {\n",
       "        vertical-align: middle;\n",
       "    }\n",
       "\n",
       "    .dataframe tbody tr th {\n",
       "        vertical-align: top;\n",
       "    }\n",
       "\n",
       "    .dataframe thead th {\n",
       "        text-align: right;\n",
       "    }\n",
       "</style>\n",
       "<table border=\"1\" class=\"dataframe\">\n",
       "  <thead>\n",
       "    <tr style=\"text-align: right;\">\n",
       "      <th></th>\n",
       "      <th>condition_acc</th>\n",
       "      <th>condition_good</th>\n",
       "      <th>condition_unacc</th>\n",
       "      <th>condition_vgood</th>\n",
       "    </tr>\n",
       "  </thead>\n",
       "  <tbody>\n",
       "    <tr>\n",
       "      <th>0</th>\n",
       "      <td>0</td>\n",
       "      <td>0</td>\n",
       "      <td>1</td>\n",
       "      <td>0</td>\n",
       "    </tr>\n",
       "    <tr>\n",
       "      <th>1</th>\n",
       "      <td>0</td>\n",
       "      <td>0</td>\n",
       "      <td>1</td>\n",
       "      <td>0</td>\n",
       "    </tr>\n",
       "    <tr>\n",
       "      <th>2</th>\n",
       "      <td>0</td>\n",
       "      <td>0</td>\n",
       "      <td>1</td>\n",
       "      <td>0</td>\n",
       "    </tr>\n",
       "    <tr>\n",
       "      <th>3</th>\n",
       "      <td>0</td>\n",
       "      <td>0</td>\n",
       "      <td>1</td>\n",
       "      <td>0</td>\n",
       "    </tr>\n",
       "    <tr>\n",
       "      <th>4</th>\n",
       "      <td>0</td>\n",
       "      <td>0</td>\n",
       "      <td>1</td>\n",
       "      <td>0</td>\n",
       "    </tr>\n",
       "  </tbody>\n",
       "</table>\n",
       "</div>"
      ],
      "text/plain": [
       "   condition_acc  condition_good  condition_unacc  condition_vgood\n",
       "0              0               0                1                0\n",
       "1              0               0                1                0\n",
       "2              0               0                1                0\n",
       "3              0               0                1                0\n",
       "4              0               0                1                0"
      ]
     },
     "execution_count": 6,
     "metadata": {},
     "output_type": "execute_result"
    }
   ],
   "source": [
    "labels = pd.get_dummies(cars.output, prefix='condition')\n",
    "labels.head()"
   ]
  },
  {
   "cell_type": "markdown",
   "id": "b14f54a3",
   "metadata": {},
   "source": [
    "X를 먼저 정의하자."
   ]
  },
  {
   "cell_type": "code",
   "execution_count": 7,
   "id": "d0832af0",
   "metadata": {},
   "outputs": [
    {
     "data": {
      "text/html": [
       "<div>\n",
       "<style scoped>\n",
       "    .dataframe tbody tr th:only-of-type {\n",
       "        vertical-align: middle;\n",
       "    }\n",
       "\n",
       "    .dataframe tbody tr th {\n",
       "        vertical-align: top;\n",
       "    }\n",
       "\n",
       "    .dataframe thead th {\n",
       "        text-align: right;\n",
       "    }\n",
       "</style>\n",
       "<table border=\"1\" class=\"dataframe\">\n",
       "  <thead>\n",
       "    <tr style=\"text-align: right;\">\n",
       "      <th></th>\n",
       "      <th>price_high</th>\n",
       "      <th>price_low</th>\n",
       "      <th>price_med</th>\n",
       "      <th>price_vhigh</th>\n",
       "      <th>maint_high</th>\n",
       "      <th>maint_low</th>\n",
       "      <th>maint_med</th>\n",
       "      <th>maint_vhigh</th>\n",
       "      <th>doors_2</th>\n",
       "      <th>doors_3</th>\n",
       "      <th>...</th>\n",
       "      <th>doors_5more</th>\n",
       "      <th>persons_2</th>\n",
       "      <th>persons_4</th>\n",
       "      <th>persons_more</th>\n",
       "      <th>lug_capacity_big</th>\n",
       "      <th>lug_capacity_med</th>\n",
       "      <th>lug_capacity_small</th>\n",
       "      <th>safety_high</th>\n",
       "      <th>safety_low</th>\n",
       "      <th>safety_med</th>\n",
       "    </tr>\n",
       "  </thead>\n",
       "  <tbody>\n",
       "    <tr>\n",
       "      <th>0</th>\n",
       "      <td>0</td>\n",
       "      <td>0</td>\n",
       "      <td>0</td>\n",
       "      <td>1</td>\n",
       "      <td>0</td>\n",
       "      <td>0</td>\n",
       "      <td>0</td>\n",
       "      <td>1</td>\n",
       "      <td>1</td>\n",
       "      <td>0</td>\n",
       "      <td>...</td>\n",
       "      <td>0</td>\n",
       "      <td>1</td>\n",
       "      <td>0</td>\n",
       "      <td>0</td>\n",
       "      <td>0</td>\n",
       "      <td>0</td>\n",
       "      <td>1</td>\n",
       "      <td>0</td>\n",
       "      <td>1</td>\n",
       "      <td>0</td>\n",
       "    </tr>\n",
       "    <tr>\n",
       "      <th>1</th>\n",
       "      <td>0</td>\n",
       "      <td>0</td>\n",
       "      <td>0</td>\n",
       "      <td>1</td>\n",
       "      <td>0</td>\n",
       "      <td>0</td>\n",
       "      <td>0</td>\n",
       "      <td>1</td>\n",
       "      <td>1</td>\n",
       "      <td>0</td>\n",
       "      <td>...</td>\n",
       "      <td>0</td>\n",
       "      <td>1</td>\n",
       "      <td>0</td>\n",
       "      <td>0</td>\n",
       "      <td>0</td>\n",
       "      <td>0</td>\n",
       "      <td>1</td>\n",
       "      <td>0</td>\n",
       "      <td>0</td>\n",
       "      <td>1</td>\n",
       "    </tr>\n",
       "    <tr>\n",
       "      <th>2</th>\n",
       "      <td>0</td>\n",
       "      <td>0</td>\n",
       "      <td>0</td>\n",
       "      <td>1</td>\n",
       "      <td>0</td>\n",
       "      <td>0</td>\n",
       "      <td>0</td>\n",
       "      <td>1</td>\n",
       "      <td>1</td>\n",
       "      <td>0</td>\n",
       "      <td>...</td>\n",
       "      <td>0</td>\n",
       "      <td>1</td>\n",
       "      <td>0</td>\n",
       "      <td>0</td>\n",
       "      <td>0</td>\n",
       "      <td>0</td>\n",
       "      <td>1</td>\n",
       "      <td>1</td>\n",
       "      <td>0</td>\n",
       "      <td>0</td>\n",
       "    </tr>\n",
       "    <tr>\n",
       "      <th>3</th>\n",
       "      <td>0</td>\n",
       "      <td>0</td>\n",
       "      <td>0</td>\n",
       "      <td>1</td>\n",
       "      <td>0</td>\n",
       "      <td>0</td>\n",
       "      <td>0</td>\n",
       "      <td>1</td>\n",
       "      <td>1</td>\n",
       "      <td>0</td>\n",
       "      <td>...</td>\n",
       "      <td>0</td>\n",
       "      <td>1</td>\n",
       "      <td>0</td>\n",
       "      <td>0</td>\n",
       "      <td>0</td>\n",
       "      <td>1</td>\n",
       "      <td>0</td>\n",
       "      <td>0</td>\n",
       "      <td>1</td>\n",
       "      <td>0</td>\n",
       "    </tr>\n",
       "    <tr>\n",
       "      <th>4</th>\n",
       "      <td>0</td>\n",
       "      <td>0</td>\n",
       "      <td>0</td>\n",
       "      <td>1</td>\n",
       "      <td>0</td>\n",
       "      <td>0</td>\n",
       "      <td>0</td>\n",
       "      <td>1</td>\n",
       "      <td>1</td>\n",
       "      <td>0</td>\n",
       "      <td>...</td>\n",
       "      <td>0</td>\n",
       "      <td>1</td>\n",
       "      <td>0</td>\n",
       "      <td>0</td>\n",
       "      <td>0</td>\n",
       "      <td>1</td>\n",
       "      <td>0</td>\n",
       "      <td>0</td>\n",
       "      <td>0</td>\n",
       "      <td>1</td>\n",
       "    </tr>\n",
       "  </tbody>\n",
       "</table>\n",
       "<p>5 rows × 21 columns</p>\n",
       "</div>"
      ],
      "text/plain": [
       "   price_high  price_low  price_med  price_vhigh  maint_high  maint_low  \\\n",
       "0           0          0          0            1           0          0   \n",
       "1           0          0          0            1           0          0   \n",
       "2           0          0          0            1           0          0   \n",
       "3           0          0          0            1           0          0   \n",
       "4           0          0          0            1           0          0   \n",
       "\n",
       "   maint_med  maint_vhigh  doors_2  doors_3  ...  doors_5more  persons_2  \\\n",
       "0          0            1        1        0  ...            0          1   \n",
       "1          0            1        1        0  ...            0          1   \n",
       "2          0            1        1        0  ...            0          1   \n",
       "3          0            1        1        0  ...            0          1   \n",
       "4          0            1        1        0  ...            0          1   \n",
       "\n",
       "   persons_4  persons_more  lug_capacity_big  lug_capacity_med  \\\n",
       "0          0             0                 0                 0   \n",
       "1          0             0                 0                 0   \n",
       "2          0             0                 0                 0   \n",
       "3          0             0                 0                 1   \n",
       "4          0             0                 0                 1   \n",
       "\n",
       "   lug_capacity_small  safety_high  safety_low  safety_med  \n",
       "0                   1            0           1           0  \n",
       "1                   1            0           0           1  \n",
       "2                   1            1           0           0  \n",
       "3                   0            0           1           0  \n",
       "4                   0            0           0           1  \n",
       "\n",
       "[5 rows x 21 columns]"
      ]
     },
     "execution_count": 7,
     "metadata": {},
     "output_type": "execute_result"
    }
   ],
   "source": [
    "X = pd.concat([price, maint, doors, persons, lug_capacity, safety], axis=1)\n",
    "X.head()\n",
    "# 결과적으로는 price끼리는 상호배타적으로 분배가 되어 있긴하지만 정말로 이대로 들어가는지는 의문이다."
   ]
  },
  {
   "cell_type": "markdown",
   "id": "987115ca",
   "metadata": {},
   "source": [
    "그리고 y를 정의한다."
   ]
  },
  {
   "cell_type": "code",
   "execution_count": 8,
   "id": "7aeddb5b",
   "metadata": {},
   "outputs": [
    {
     "name": "stdout",
     "output_type": "stream",
     "text": [
      "labels type > <class 'pandas.core.frame.DataFrame'>\n",
      "labels.values type > <class 'numpy.ndarray'>\n"
     ]
    }
   ],
   "source": [
    "print(f'labels type > {type(labels)}')\n",
    "print(f'labels.values type > {type(labels.values)}')\n",
    "y = labels.values # 이 스페이스는 numpy를 가지고 있는 부분이다. 정의하면서 변환되는 듯한 느낌을 줄뿐 실제로는 함수가 아니다.\n"
   ]
  },
  {
   "cell_type": "markdown",
   "id": "b57fa156",
   "metadata": {},
   "source": [
    "사이킷런으로 데이터셋을 훈련과 테스트로 나눈다."
   ]
  },
  {
   "cell_type": "code",
   "execution_count": 9,
   "id": "a60e1179",
   "metadata": {},
   "outputs": [],
   "source": [
    "from sklearn.model_selection import train_test_split # split_folder와 같은 역할을 할 것 같다. \n",
    "X_train, X_test, y_train, y_test = train_test_split(X, y, test_size=0.20, random_state=42)\n",
    "# return을 봐도 잘 모르겠으니 ... 외워야한다.\n",
    "# X, y 처럼 꼭 두개가 아니어도 된다. 딱 하나이어도 되며 return뒤가 지저분했던 이유도 이 때문일 것이다.\n",
    "# random_state는 seed인가"
   ]
  },
  {
   "cell_type": "code",
   "execution_count": 10,
   "id": "1fb6dd60",
   "metadata": {},
   "outputs": [
    {
     "name": "stdout",
     "output_type": "stream",
     "text": [
      "X_train type > <class 'pandas.core.frame.DataFrame'>\n"
     ]
    }
   ],
   "source": [
    "print(f'X_train type > {type(X_train)}')"
   ]
  },
  {
   "cell_type": "markdown",
   "id": "3bf92299",
   "metadata": {},
   "source": [
    "모델을 생성한다."
   ]
  },
  {
   "cell_type": "code",
   "execution_count": 11,
   "id": "df98fdbd",
   "metadata": {},
   "outputs": [
    {
     "name": "stdout",
     "output_type": "stream",
     "text": [
      "X.shape > (1728, 21)\n"
     ]
    },
    {
     "name": "stderr",
     "output_type": "stream",
     "text": [
      "2022-09-14 21:40:18.507743: I tensorflow/stream_executor/cuda/cuda_gpu_executor.cc:939] successful NUMA node read from SysFS had negative value (-1), but there must be at least one NUMA node, so returning NUMA node zero\n",
      "2022-09-14 21:40:18.547838: I tensorflow/stream_executor/cuda/cuda_gpu_executor.cc:939] successful NUMA node read from SysFS had negative value (-1), but there must be at least one NUMA node, so returning NUMA node zero\n",
      "2022-09-14 21:40:18.548017: I tensorflow/stream_executor/cuda/cuda_gpu_executor.cc:939] successful NUMA node read from SysFS had negative value (-1), but there must be at least one NUMA node, so returning NUMA node zero\n",
      "2022-09-14 21:40:18.548844: I tensorflow/core/platform/cpu_feature_guard.cc:151] This TensorFlow binary is optimized with oneAPI Deep Neural Network Library (oneDNN) to use the following CPU instructions in performance-critical operations:  AVX2 FMA\n",
      "To enable them in other operations, rebuild TensorFlow with the appropriate compiler flags.\n",
      "2022-09-14 21:40:18.549739: I tensorflow/stream_executor/cuda/cuda_gpu_executor.cc:939] successful NUMA node read from SysFS had negative value (-1), but there must be at least one NUMA node, so returning NUMA node zero\n",
      "2022-09-14 21:40:18.549918: I tensorflow/stream_executor/cuda/cuda_gpu_executor.cc:939] successful NUMA node read from SysFS had negative value (-1), but there must be at least one NUMA node, so returning NUMA node zero\n",
      "2022-09-14 21:40:18.550072: I tensorflow/stream_executor/cuda/cuda_gpu_executor.cc:939] successful NUMA node read from SysFS had negative value (-1), but there must be at least one NUMA node, so returning NUMA node zero\n",
      "2022-09-14 21:40:18.957461: I tensorflow/stream_executor/cuda/cuda_gpu_executor.cc:939] successful NUMA node read from SysFS had negative value (-1), but there must be at least one NUMA node, so returning NUMA node zero\n",
      "2022-09-14 21:40:18.957663: I tensorflow/stream_executor/cuda/cuda_gpu_executor.cc:939] successful NUMA node read from SysFS had negative value (-1), but there must be at least one NUMA node, so returning NUMA node zero\n",
      "2022-09-14 21:40:18.957802: I tensorflow/stream_executor/cuda/cuda_gpu_executor.cc:939] successful NUMA node read from SysFS had negative value (-1), but there must be at least one NUMA node, so returning NUMA node zero\n",
      "2022-09-14 21:40:18.957919: I tensorflow/core/common_runtime/gpu/gpu_device.cc:1525] Created device /job:localhost/replica:0/task:0/device:GPU:0 with 3319 MB memory:  -> device: 0, name: NVIDIA GeForce GTX 1050, pci bus id: 0000:01:00.0, compute capability: 6.1\n"
     ]
    }
   ],
   "source": [
    "from tensorflow.keras.layers import Input, Dense, Activation, Dropout # 다 아는 친구들이구만\\\n",
    "from tensorflow.keras.models import Model\n",
    "\n",
    "print(f'X.shape > {X.shape}')\n",
    "input_layer = Input(shape=(X.shape[1])) # cols에 맞춰야하므로 [1]!\n",
    "dense_layer_1 = Dense(15, activation='relu')(input_layer)\n",
    "dense_layer_2 = Dense(10, activation='relu')(dense_layer_1)\n",
    "output = Dense(y.shape[1], activation='softmax')(dense_layer_2)\n",
    "# 활성화 함수(activation)를 살펴보자\n",
    "\n",
    "model = Model(input_layer, output)"
   ]
  },
  {
   "cell_type": "markdown",
   "id": "b057f25c",
   "metadata": {},
   "source": [
    "컴파일과 서머리"
   ]
  },
  {
   "cell_type": "code",
   "execution_count": 12,
   "id": "7dfcdfae",
   "metadata": {},
   "outputs": [
    {
     "name": "stdout",
     "output_type": "stream",
     "text": [
      "Model: \"model\"\n",
      "_________________________________________________________________\n",
      " Layer (type)                Output Shape              Param #   \n",
      "=================================================================\n",
      " input_1 (InputLayer)        [(None, 21)]              0         \n",
      "                                                                 \n",
      " dense (Dense)               (None, 15)                330       \n",
      "                                                                 \n",
      " dense_1 (Dense)             (None, 10)                160       \n",
      "                                                                 \n",
      " dense_2 (Dense)             (None, 4)                 44        \n",
      "                                                                 \n",
      "=================================================================\n",
      "Total params: 534\n",
      "Trainable params: 534\n",
      "Non-trainable params: 0\n",
      "_________________________________________________________________\n"
     ]
    }
   ],
   "source": [
    "# model.compile(loss='categorical_crossentrㅐy', optimizer='adam', metrics=['accuacy']) # 오타나도 만들어진다...\n",
    "model.compile(loss='categorical_crossentropy', optimizer='adam', metrics=['accuracy']) \n",
    "model.summary()"
   ]
  },
  {
   "cell_type": "markdown",
   "id": "30c85c22",
   "metadata": {},
   "source": [
    "fit!"
   ]
  },
  {
   "cell_type": "code",
   "execution_count": 13,
   "id": "82470a3f",
   "metadata": {},
   "outputs": [],
   "source": [
    "# 만약 메모리 에러가 난다면... nvidia-smi로 pid를 찾아 kill 할 것"
   ]
  },
  {
   "cell_type": "code",
   "execution_count": 14,
   "id": "d2f8aedc",
   "metadata": {},
   "outputs": [
    {
     "name": "stdout",
     "output_type": "stream",
     "text": [
      "Epoch 1/50\n",
      "87/87 [==============================] - 1s 2ms/step - loss: 1.1993 - accuracy: 0.5485\n",
      "Epoch 2/50\n",
      "87/87 [==============================] - 0s 2ms/step - loss: 0.8045 - accuracy: 0.7098\n",
      "Epoch 3/50\n",
      "87/87 [==============================] - 0s 2ms/step - loss: 0.6565 - accuracy: 0.7337\n",
      "Epoch 4/50\n",
      "87/87 [==============================] - 0s 2ms/step - loss: 0.5432 - accuracy: 0.7612\n",
      "Epoch 5/50\n",
      "87/87 [==============================] - 0s 2ms/step - loss: 0.4425 - accuracy: 0.8068\n",
      "Epoch 6/50\n",
      "87/87 [==============================] - 0s 2ms/step - loss: 0.3667 - accuracy: 0.8459\n",
      "Epoch 7/50\n",
      "87/87 [==============================] - 0s 2ms/step - loss: 0.3139 - accuracy: 0.8654\n",
      "Epoch 8/50\n",
      "87/87 [==============================] - 0s 1ms/step - loss: 0.2769 - accuracy: 0.8770\n",
      "Epoch 9/50\n",
      "87/87 [==============================] - 0s 1ms/step - loss: 0.2474 - accuracy: 0.8987\n",
      "Epoch 10/50\n",
      "87/87 [==============================] - 0s 1ms/step - loss: 0.2261 - accuracy: 0.9153\n",
      "Epoch 11/50\n",
      "87/87 [==============================] - 0s 2ms/step - loss: 0.2065 - accuracy: 0.9240\n",
      "Epoch 12/50\n",
      "87/87 [==============================] - 0s 2ms/step - loss: 0.1888 - accuracy: 0.9327\n",
      "Epoch 13/50\n",
      "87/87 [==============================] - 0s 2ms/step - loss: 0.1754 - accuracy: 0.9457\n",
      "Epoch 14/50\n",
      "87/87 [==============================] - 0s 2ms/step - loss: 0.1624 - accuracy: 0.9493\n",
      "Epoch 15/50\n",
      "87/87 [==============================] - 0s 1ms/step - loss: 0.1508 - accuracy: 0.9573\n",
      "Epoch 16/50\n",
      "87/87 [==============================] - 0s 2ms/step - loss: 0.1376 - accuracy: 0.9703\n",
      "Epoch 17/50\n",
      "87/87 [==============================] - 0s 1ms/step - loss: 0.1282 - accuracy: 0.9703\n",
      "Epoch 18/50\n",
      "87/87 [==============================] - 0s 2ms/step - loss: 0.1191 - accuracy: 0.9725\n",
      "Epoch 19/50\n",
      "87/87 [==============================] - 0s 2ms/step - loss: 0.1093 - accuracy: 0.9776\n",
      "Epoch 20/50\n",
      "87/87 [==============================] - 0s 2ms/step - loss: 0.1007 - accuracy: 0.9826\n",
      "Epoch 21/50\n",
      "87/87 [==============================] - 0s 2ms/step - loss: 0.0928 - accuracy: 0.9812\n",
      "Epoch 22/50\n",
      "87/87 [==============================] - 0s 2ms/step - loss: 0.0850 - accuracy: 0.9826\n",
      "Epoch 23/50\n",
      "87/87 [==============================] - 0s 1ms/step - loss: 0.0808 - accuracy: 0.9848\n",
      "Epoch 24/50\n",
      "87/87 [==============================] - 0s 2ms/step - loss: 0.0739 - accuracy: 0.9870\n",
      "Epoch 25/50\n",
      "87/87 [==============================] - 0s 1ms/step - loss: 0.0686 - accuracy: 0.9891\n",
      "Epoch 26/50\n",
      "87/87 [==============================] - 0s 1ms/step - loss: 0.0642 - accuracy: 0.9863\n",
      "Epoch 27/50\n",
      "87/87 [==============================] - 0s 1ms/step - loss: 0.0600 - accuracy: 0.9884\n",
      "Epoch 28/50\n",
      "87/87 [==============================] - 0s 1ms/step - loss: 0.0573 - accuracy: 0.9877\n",
      "Epoch 29/50\n",
      "87/87 [==============================] - 0s 2ms/step - loss: 0.0538 - accuracy: 0.9884\n",
      "Epoch 30/50\n",
      "87/87 [==============================] - 0s 2ms/step - loss: 0.0504 - accuracy: 0.9884\n",
      "Epoch 31/50\n",
      "87/87 [==============================] - 0s 1ms/step - loss: 0.0471 - accuracy: 0.9906\n",
      "Epoch 32/50\n",
      "87/87 [==============================] - 0s 2ms/step - loss: 0.0443 - accuracy: 0.9899\n",
      "Epoch 33/50\n",
      "87/87 [==============================] - 0s 2ms/step - loss: 0.0419 - accuracy: 0.9906\n",
      "Epoch 34/50\n",
      "87/87 [==============================] - 0s 2ms/step - loss: 0.0395 - accuracy: 0.9920\n",
      "Epoch 35/50\n",
      "87/87 [==============================] - 0s 2ms/step - loss: 0.0379 - accuracy: 0.9899\n",
      "Epoch 36/50\n",
      "87/87 [==============================] - 0s 2ms/step - loss: 0.0351 - accuracy: 0.9928\n",
      "Epoch 37/50\n",
      "87/87 [==============================] - 0s 2ms/step - loss: 0.0330 - accuracy: 0.9920\n",
      "Epoch 38/50\n",
      "87/87 [==============================] - 0s 2ms/step - loss: 0.0319 - accuracy: 0.9928\n",
      "Epoch 39/50\n",
      "87/87 [==============================] - 0s 1ms/step - loss: 0.0293 - accuracy: 0.9935\n",
      "Epoch 40/50\n",
      "87/87 [==============================] - 0s 2ms/step - loss: 0.0289 - accuracy: 0.9935\n",
      "Epoch 41/50\n",
      "87/87 [==============================] - 0s 2ms/step - loss: 0.0263 - accuracy: 0.9949\n",
      "Epoch 42/50\n",
      "87/87 [==============================] - 0s 1ms/step - loss: 0.0253 - accuracy: 0.9949\n",
      "Epoch 43/50\n",
      "87/87 [==============================] - 0s 2ms/step - loss: 0.0239 - accuracy: 0.9949\n",
      "Epoch 44/50\n",
      "87/87 [==============================] - 0s 2ms/step - loss: 0.0223 - accuracy: 0.9957\n",
      "Epoch 45/50\n",
      "87/87 [==============================] - 0s 1ms/step - loss: 0.0212 - accuracy: 0.9949\n",
      "Epoch 46/50\n",
      "87/87 [==============================] - 0s 2ms/step - loss: 0.0198 - accuracy: 0.9949\n",
      "Epoch 47/50\n",
      "87/87 [==============================] - 0s 2ms/step - loss: 0.0195 - accuracy: 0.9957\n",
      "Epoch 48/50\n",
      "87/87 [==============================] - 0s 2ms/step - loss: 0.0181 - accuracy: 0.9957\n",
      "Epoch 49/50\n",
      "87/87 [==============================] - 0s 2ms/step - loss: 0.0169 - accuracy: 0.9964\n",
      "Epoch 50/50\n",
      "87/87 [==============================] - 0s 2ms/step - loss: 0.0159 - accuracy: 0.9957\n"
     ]
    }
   ],
   "source": [
    "# physical_devices = tf.config.list_physical_devices('GPU')\n",
    "# tf.config.experimental.set_memory_growth(physical_devices[0], True)\n",
    "\n",
    "history = model.fit(X_train, y_train, batch_size=16, epochs=50, verbose=1, validation_batch_size=0.2)\n",
    "# validation_batch_size로 또 valid 데이터를 나누었네\n",
    "# batch는 모델 가중치를 한 번 업데이트 시킬때 사용되는 데이터의 묶음 \n",
    "# 예를 들어 1000개의 데이터를 20배치로 하면 20개마다 모델 가중치를 업데이트 하므로 50번 나눠서 1에포크를 진행"
   ]
  },
  {
   "cell_type": "markdown",
   "id": "0824e5df",
   "metadata": {},
   "source": [
    "테스트 셋으로 검사\n"
   ]
  },
  {
   "cell_type": "code",
   "execution_count": 18,
   "id": "e451bfca",
   "metadata": {},
   "outputs": [
    {
     "name": "stdout",
     "output_type": "stream",
     "text": [
      "eval...\n",
      "11/11 [==============================] - 0s 2ms/step - loss: 0.0553 - accuracy: 0.9827\n",
      "eval... without y\n",
      "11/11 [==============================] - 0s 1ms/step - loss: 0.0000e+00 - accuracy: 0.0000e+00\n"
     ]
    }
   ],
   "source": [
    "print('eval...')\n",
    "score = model.evaluate(X_test, y_test, verbose=1)\n",
    "print('eval... without y')\n",
    "_ = model.evaluate(X_test, verbose=1) # 당연히 X만 넣어도 되긴하다. 하지만 점수만 없을 뿐"
   ]
  },
  {
   "cell_type": "markdown",
   "id": "cac7c059",
   "metadata": {},
   "source": [
    "구분할 줄 알아야함 > True Positive, True Negative, False Posiive, False Negative"
   ]
  },
  {
   "cell_type": "code",
   "execution_count": 21,
   "id": "8acc2766",
   "metadata": {},
   "outputs": [],
   "source": [
    "import matplotlib.image as image"
   ]
  },
  {
   "cell_type": "markdown",
   "id": "56d264df",
   "metadata": {},
   "source": [
    "<p>언제나 헷갈리는 TFPN</p>\n",
    "<img src='./nb_img/tfps_1.png'>"
   ]
  },
  {
   "cell_type": "markdown",
   "id": "62ce0e8f",
   "metadata": {},
   "source": [
    "<p>정확도, 재현율, 정밀도, F1-스코어</p>\n",
    "<img src='./nb_img/tfps_2.png'>"
   ]
  }
 ],
 "metadata": {
  "kernelspec": {
   "display_name": "Python 3 (ipykernel)",
   "language": "python",
   "name": "python3"
  },
  "language_info": {
   "codemirror_mode": {
    "name": "ipython",
    "version": 3
   },
   "file_extension": ".py",
   "mimetype": "text/x-python",
   "name": "python",
   "nbconvert_exporter": "python",
   "pygments_lexer": "ipython3",
   "version": "3.8.13"
  },
  "vscode": {
   "interpreter": {
    "hash": "104ddca472ee31af587b3ad85bb169351c7983f3f714b2fd4e7cc449068befdb"
   }
  }
 },
 "nbformat": 4,
 "nbformat_minor": 5
}
