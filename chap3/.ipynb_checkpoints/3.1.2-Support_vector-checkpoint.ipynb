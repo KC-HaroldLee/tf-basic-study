{
 "cells": [
  {
   "cell_type": "markdown",
   "metadata": {},
   "source": [
    "### 3.1.2 서포트 벡터 머신"
   ]
  },
  {
   "cell_type": "markdown",
   "metadata": {},
   "source": [
    "커널만 적절히 선택한다면 정확도가 상당히 좋다고 한다. 정확도를 요구하는 분류 문제를 다룰 때 사용하면 좋다. 또한 텍스트를 분류할 때도 사용한다."
   ]
  },
  {
   "cell_type": "code",
   "execution_count": 1,
   "metadata": {},
   "outputs": [],
   "source": [
    "import matplotlib.pyplot as plt\n",
    "import matplotlib.image as image"
   ]
  },
  {
   "cell_type": "markdown",
   "metadata": {},
   "source": [
    "<img src ='./image/v.png'>\n",
    "<img src ='./image/v2.png'>"
   ]
  },
  {
   "cell_type": "markdown",
   "metadata": {},
   "source": [
    "라이브러리 호출"
   ]
  },
  {
   "cell_type": "code",
   "execution_count": 2,
   "metadata": {},
   "outputs": [
    {
     "name": "stdout",
     "output_type": "stream",
     "text": [
      "[PhysicalDevice(name='/physical_device:GPU:0', device_type='GPU')]\n"
     ]
    },
    {
     "name": "stderr",
     "output_type": "stream",
     "text": [
      "2022-10-24 21:41:10.768309: I tensorflow/stream_executor/cuda/cuda_gpu_executor.cc:939] successful NUMA node read from SysFS had negative value (-1), but there must be at least one NUMA node, so returning NUMA node zero\n",
      "2022-10-24 21:41:10.848386: I tensorflow/stream_executor/cuda/cuda_gpu_executor.cc:939] successful NUMA node read from SysFS had negative value (-1), but there must be at least one NUMA node, so returning NUMA node zero\n",
      "2022-10-24 21:41:10.848698: I tensorflow/stream_executor/cuda/cuda_gpu_executor.cc:939] successful NUMA node read from SysFS had negative value (-1), but there must be at least one NUMA node, so returning NUMA node zero\n"
     ]
    }
   ],
   "source": [
    "from sklearn import svm # 서포트 벡터 머신!\n",
    "from sklearn import metrics\n",
    "from sklearn import datasets\n",
    "from sklearn import model_selection\n",
    "import tensorflow as tf\n",
    "import os\n",
    "\n",
    "print(tf.config.list_physical_devices('GPU'))\n",
    "os.environ['TF_CPP_MIN_LOG_LEVEL'] = '3' # 로그 필터"
   ]
  },
  {
   "cell_type": "markdown",
   "metadata": {},
   "source": [
    "데이터 셋!"
   ]
  },
  {
   "cell_type": "code",
   "execution_count": 3,
   "metadata": {},
   "outputs": [
    {
     "name": "stdout",
     "output_type": "stream",
     "text": [
      "iris.data >  <class 'numpy.ndarray'> (150, 4)\n",
      "iris.target >  <class 'numpy.ndarray'> (150,)\n"
     ]
    }
   ],
   "source": [
    "iris = datasets.load_iris() # 반환하는... 함수군\n",
    "print('iris.data > ', type(iris.data), (iris.data.shape))\n",
    "print('iris.target > ', type(iris.target), (iris.target.shape))\n",
    "X_train, X_test, y_train, y_test = model_selection.train_test_split(iris.data, iris.target, test_size=0.6, random_state=42) # 이게 왜 model_selection에 있는 걸까?\n"
   ]
  },
  {
   "cell_type": "markdown",
   "metadata": {},
   "source": [
    "SVM 모델에 대한 정확도"
   ]
  },
  {
   "cell_type": "code",
   "execution_count": 4,
   "metadata": {},
   "outputs": [
    {
     "name": "stdout",
     "output_type": "stream",
     "text": [
      "정확도: 0.988889\n"
     ]
    }
   ],
   "source": [
    "svm_model = svm.SVC(kernel='linear', C=1.0, gamma=0.5)\n",
    "svm_model.fit(X_train, y_train)\n",
    "\n",
    "pred = svm_model.predict(X_test) # target은 안 넣는다 아직은\n",
    "score = metrics.accuracy_score(y_test, pred) # 순서가 좀 헷갈린다. gt / pred 순이다.\n",
    "\n",
    "print('정확도: {0:f}'.format(score))"
   ]
  },
  {
   "cell_type": "markdown",
   "metadata": {},
   "source": [
    "<img src='./image/v3.png'>\n",
    "<img src='./image/v4.png'>"
   ]
  },
  {
   "cell_type": "markdown",
   "metadata": {},
   "source": [
    "그렇다고 한다. "
   ]
  },
  {
   "cell_type": "markdown",
   "metadata": {},
   "source": [
    "<p>위 문제를 해결하기 위해 커널트릭이(Kernel trick) 도입된다. (자세하게 알필욘 없다고 한다...)</p>\n",
    "<p>1. 선형커널 : 선형으로 분류가능한 데이터에 적용한다.</p>\n",
    "<p>2. 다항식커널 : 실제로 특성을 추가하지는 않지만 다항식 특성을 많이 추가한 것과 같은 결과를 얻을 수 있는 방법이다.</p>\n",
    "<p>3. 가우시안 RBF커널 : 다항식 커널의 확장이다. 입력 벡터를 차원이 무한한 고차원으로 매핑하는것으로 모든 차수의 모든 다항식을 고려한다, 즉 다항식 커널은 차수에 한계가 있고 가우시간RBF는 차수에 제한이 없어 무한한 확장이 가능하다.</p>\n"
   ]
  },
  {
   "cell_type": "markdown",
   "metadata": {},
   "source": [
    "<p>감마 값에 대해서</p>\n",
    "<img src=\"./image/g1.png\">\n",
    "<p>감마는 결정 경계를 얼마나 유연하게 가져갈지 지정한다. 즉, 훈련데이터에 얼마나 민감하게 반응할지 지정한다. 다만 감마값이 너무 높으면 훈련데이터에 많이 의존하기때문에 결정경계가 곡선형태를 띠며 과적합을 초래할 수 있다고 한다.\n"
   ]
  },
  {
   "cell_type": "markdown",
   "metadata": {},
   "source": []
  }
 ],
 "metadata": {
  "kernelspec": {
   "display_name": "TF_TEST",
   "language": "python",
   "name": "tf_test"
  },
  "language_info": {
   "codemirror_mode": {
    "name": "ipython",
    "version": 3
   },
   "file_extension": ".py",
   "mimetype": "text/x-python",
   "name": "python",
   "nbconvert_exporter": "python",
   "pygments_lexer": "ipython3",
   "version": "3.9.12"
  },
  "vscode": {
   "interpreter": {
    "hash": "104ddca472ee31af587b3ad85bb169351c7983f3f714b2fd4e7cc449068befdb"
   }
  }
 },
 "nbformat": 4,
 "nbformat_minor": 2
}
