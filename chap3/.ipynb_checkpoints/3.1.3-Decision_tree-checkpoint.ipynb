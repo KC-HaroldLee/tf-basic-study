{
 "cells": [
  {
   "cell_type": "markdown",
   "id": "c8f1434e",
   "metadata": {},
   "source": [
    "## 3.1.3 결정트리"
   ]
  },
  {
   "cell_type": "markdown",
   "id": "e1a02ceb",
   "metadata": {},
   "source": [
    "<p>사용하는 이유 : 주어진 데이터에 대한 분류</p>\n",
    "<p>결정 트리는 이상치가 많은 값으로 구성된 데이터 셋을 다룰 때 좋다.</p>\n",
    "<p>결정 과정이 시작적으로 표현되기 때문에 러닝 머신이 어떤 방식으로 의사 결정하는지 관찰 할 수 있다.</p>\n",
    "<img src='./image/d1.png'>"
   ]
  },
  {
   "cell_type": "markdown",
   "id": "da687898",
   "metadata": {},
   "source": [
    "<p>불순도의 개념</p>\n",
    "<img src='./image/d2.png'>"
   ]
  },
  {
   "cell_type": "markdown",
   "id": "8a610482",
   "metadata": {},
   "source": [
    "<p>결정 트리에서 불확실성을 계산하는 방법은 2가지이다.</p>\n",
    "<p>1. 엔트로피<p/>\n",
    "<img src='./image/d3.png'>\n",
    "<img src='./image/d4.png'>\n",
    "<p>2. 지니 계수</p>\n",
    "<img src='./image/d5.png'>"
   ]
  },
  {
   "cell_type": "markdown",
   "id": "bbe57cda",
   "metadata": {},
   "source": [
    "### 코드 작성"
   ]
  },
  {
   "cell_type": "markdown",
   "id": "82da1942",
   "metadata": {},
   "source": [
    "<img src='./image/d6.png'>"
   ]
  },
  {
   "cell_type": "markdown",
   "id": "040a547e",
   "metadata": {},
   "source": [
    "### 데이터 불러오기"
   ]
  },
  {
   "cell_type": "code",
   "execution_count": 33,
   "id": "8bb3e7ad",
   "metadata": {},
   "outputs": [
    {
     "data": {
      "text/plain": [
       "['Survived',\n",
       " 'Pclass',\n",
       " 'Name',\n",
       " 'Sex',\n",
       " 'Age',\n",
       " 'SibSp',\n",
       " 'Parch',\n",
       " 'Ticket',\n",
       " 'Fare',\n",
       " 'Cabin',\n",
       " 'Embarked']"
      ]
     },
     "execution_count": 33,
     "metadata": {},
     "output_type": "execute_result"
    }
   ],
   "source": [
    "# 필요한 데이터 불러오기\n",
    "import pandas as pd\n",
    "\n",
    "df = pd.read_csv('./data/titanic/train.csv', index_col='PassengerId')\n",
    "# print(df.head)\n",
    "list(df.columns)"
   ]
  },
  {
   "cell_type": "code",
   "execution_count": 34,
   "id": "a8cf5546",
   "metadata": {},
   "outputs": [],
   "source": [
    "# 필요한 데이터만 추출하여 전처리 하기\n",
    "df = df[['Pclass', 'Sex', 'Age', 'SibSp', 'Parch', 'Fare', 'Survived']]"
   ]
  },
  {
   "cell_type": "code",
   "execution_count": 35,
   "id": "8e6eb8b9",
   "metadata": {},
   "outputs": [
    {
     "name": "stdout",
     "output_type": "stream",
     "text": [
      "<bound method NDFrame.head of PassengerId\n",
      "1        male\n",
      "2      female\n",
      "3      female\n",
      "4      female\n",
      "5        male\n",
      "        ...  \n",
      "887      male\n",
      "888    female\n",
      "889    female\n",
      "890      male\n",
      "891      male\n",
      "Name: Sex, Length: 891, dtype: object>\n",
      "\n",
      "-------changed-------\n",
      "\n",
      "<bound method NDFrame.head of PassengerId\n",
      "1      0\n",
      "2      1\n",
      "3      1\n",
      "4      1\n",
      "5      0\n",
      "      ..\n",
      "887    0\n",
      "888    1\n",
      "889    1\n",
      "890    0\n",
      "891    0\n",
      "Name: Sex, Length: 891, dtype: int64>\n"
     ]
    }
   ],
   "source": [
    "# 성별을 나타내는 'Sex'를 0rhk 1 정수 값으로 변환\n",
    "print(df['Sex'].head)\n",
    "print('\\n-------changed-------\\n')\n",
    "df['Sex'] = df['Sex'].map({'male':0, 'female':1})\n",
    "print(df['Sex'].head)"
   ]
  },
  {
   "cell_type": "code",
   "execution_count": 36,
   "id": "ae865114",
   "metadata": {},
   "outputs": [
    {
     "name": "stdout",
     "output_type": "stream",
     "text": [
      "891\n",
      "\n",
      "-------changed-------\n",
      "\n",
      "714\n"
     ]
    }
   ],
   "source": [
    "# 값이 없는 데이터 삭제\n",
    "print(len(df))\n",
    "print('\\n-------changed-------\\n')\n",
    "df = df.dropna()\n",
    "print(len(df))"
   ]
  },
  {
   "cell_type": "code",
   "execution_count": 37,
   "id": "51cdf67c",
   "metadata": {},
   "outputs": [],
   "source": [
    "# X와 y 분리하기\n",
    "X = df.drop('Survived', axis=1)\n",
    "y = df['Survived']"
   ]
  },
  {
   "cell_type": "markdown",
   "id": "c88c6906",
   "metadata": {},
   "source": [
    "### 데이터 셋으로 분리하기"
   ]
  },
  {
   "cell_type": "code",
   "execution_count": 38,
   "id": "ab04474a",
   "metadata": {},
   "outputs": [
    {
     "name": "stdout",
     "output_type": "stream",
     "text": [
      "len(X_train) 535\n",
      "len(X_test) 179\n",
      "len(y_train) 535\n",
      "len(y_test) 179\n"
     ]
    }
   ],
   "source": [
    "from sklearn.model_selection import train_test_split\n",
    "X_train, X_test, y_train, y_test = train_test_split(X, y, random_state=1)\n",
    "print('len(X_train)', len(X_train))\n",
    "print('len(X_test)', len(X_test))\n",
    "print('len(y_train)', len(y_train))\n",
    "print('len(y_test)', len(y_test))"
   ]
  },
  {
   "cell_type": "code",
   "execution_count": 39,
   "id": "04d3038b",
   "metadata": {},
   "outputs": [],
   "source": [
    "from sklearn import tree # 와우 없는게 뭐여\n",
    "model = tree.DecisionTreeClassifier()"
   ]
  },
  {
   "cell_type": "code",
   "execution_count": 42,
   "id": "7141ab4b",
   "metadata": {},
   "outputs": [],
   "source": [
    "import time"
   ]
  },
  {
   "cell_type": "code",
   "execution_count": 43,
   "id": "7c21c05e",
   "metadata": {},
   "outputs": [
    {
     "name": "stdout",
     "output_type": "stream",
     "text": [
      "fit done : 0.013283491134643555\n"
     ]
    }
   ],
   "source": [
    "start = time.time()\n",
    "model.fit(X_train, y_train) # 뭐 설정...같은 거 안하나요...\n",
    "print('fit done :', time.time() - start)"
   ]
  },
  {
   "cell_type": "markdown",
   "id": "2de751d6",
   "metadata": {},
   "source": [
    "### 모델 예측하기"
   ]
  },
  {
   "cell_type": "code",
   "execution_count": 44,
   "id": "85004afd",
   "metadata": {},
   "outputs": [],
   "source": [
    "y_pred = model.predict(X_test)"
   ]
  },
  {
   "cell_type": "code",
   "execution_count": 45,
   "id": "87503853",
   "metadata": {},
   "outputs": [
    {
     "data": {
      "text/plain": [
       "0.8212290502793296"
      ]
     },
     "execution_count": 45,
     "metadata": {},
     "output_type": "execute_result"
    }
   ],
   "source": [
    "from sklearn.metrics import accuracy_score\n",
    "accuracy_score(y_test, y_pred)"
   ]
  },
  {
   "cell_type": "markdown",
   "id": "f00e4dc3",
   "metadata": {},
   "source": [
    "### 혼동 행렬을 이용한 성능 측정"
   ]
  },
  {
   "cell_type": "code",
   "execution_count": 49,
   "id": "820e2bfb",
   "metadata": {},
   "outputs": [
    {
     "data": {
      "text/html": [
       "<div>\n",
       "<style scoped>\n",
       "    .dataframe tbody tr th:only-of-type {\n",
       "        vertical-align: middle;\n",
       "    }\n",
       "\n",
       "    .dataframe tbody tr th {\n",
       "        vertical-align: top;\n",
       "    }\n",
       "\n",
       "    .dataframe thead th {\n",
       "        text-align: right;\n",
       "    }\n",
       "</style>\n",
       "<table border=\"1\" class=\"dataframe\">\n",
       "  <thead>\n",
       "    <tr style=\"text-align: right;\">\n",
       "      <th></th>\n",
       "      <th>Predicted Not Survival</th>\n",
       "      <th>Predicted Survival</th>\n",
       "    </tr>\n",
       "  </thead>\n",
       "  <tbody>\n",
       "    <tr>\n",
       "      <th>True Not Survival</th>\n",
       "      <td>97</td>\n",
       "      <td>15</td>\n",
       "    </tr>\n",
       "    <tr>\n",
       "      <th>True Survival</th>\n",
       "      <td>17</td>\n",
       "      <td>50</td>\n",
       "    </tr>\n",
       "  </tbody>\n",
       "</table>\n",
       "</div>"
      ],
      "text/plain": [
       "                   Predicted Not Survival  Predicted Survival\n",
       "True Not Survival                      97                  15\n",
       "True Survival                          17                  50"
      ]
     },
     "execution_count": 49,
     "metadata": {},
     "output_type": "execute_result"
    }
   ],
   "source": [
    "from sklearn.metrics import confusion_matrix\n",
    "\n",
    "pd.DataFrame( # 새로 만들어야하는군 이건\n",
    "    confusion_matrix(y_test, y_pred),\n",
    "    columns=['Predicted Not Survival', 'Predicted Survival'],\n",
    "    index=['True Not Survival', 'True Survival']\n",
    ")\n",
    "# 혼동 행렬로 '정밀도', '재현율', '정확도'같은 지표를 얻을 수 있다."
   ]
  },
  {
   "cell_type": "code",
   "execution_count": null,
   "id": "7a57bc6f",
   "metadata": {},
   "outputs": [],
   "source": []
  }
 ],
 "metadata": {
  "kernelspec": {
   "display_name": "TF_TEST",
   "language": "python",
   "name": "tf_test"
  },
  "language_info": {
   "codemirror_mode": {
    "name": "ipython",
    "version": 3
   },
   "file_extension": ".py",
   "mimetype": "text/x-python",
   "name": "python",
   "nbconvert_exporter": "python",
   "pygments_lexer": "ipython3",
   "version": "3.9.12"
  }
 },
 "nbformat": 4,
 "nbformat_minor": 5
}
