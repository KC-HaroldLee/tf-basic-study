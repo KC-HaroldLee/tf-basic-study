{
 "cells": [
  {
   "cell_type": "markdown",
   "id": "00762685",
   "metadata": {},
   "source": [
    "# 3.2 비지도 학습"
   ]
  },
  {
   "cell_type": "markdown",
   "id": "188b4ae3",
   "metadata": {},
   "source": [
    "<p>비지도 학습은 레이블이 필요하지 않으며 정답이 없는 상태에서 훈련시키는 방식이다. 비지도 학습에는 군집(clustering)과 차원 축소 (dimensionality reduction)이 있다. 군집은 각 데이터의 유사성(거리)을 측정한 후 유사성이 높은 데이터 끼리 집단으로 분류한다. 차원 축소는 차원을 나타내는 특성을 줄여서 데이터를 줄이는 방식이다.</p>\n",
    "\n",
    "<table>\n",
    "    <thead>\n",
    "        <tr>\n",
    "            <th>구분</th>\n",
    "            <th>군집</th>\n",
    "            <th>차원축소</th>        \n",
    "        </tr>\n",
    "    </thead>\n",
    "    <tbody>\n",
    "        <tr>\n",
    "            <td>데이터 그룹화</td>\n",
    "            <td>K-평균 군집화</td>\n",
    "            <td>사용자의 관심사에 따라<br>그룹화 하여 마케팅에 활용</td>\n",
    "        </tr>\n",
    "        <tr>\n",
    "            <td>데이터 간소화</td>\n",
    "            <td>주성분 분석(PCA)</td>\n",
    "            <td>- 데이터 압축<br>- 중요한 속성 도출</td>\n",
    "        </tr>\n",
    "    </tbody>\n",
    "</table>\n",
    "\n",
    "<p>군집, 군집화 클러스터 : 통계학에서는 군집이라고 하며, 머신러닝에서는 클러스터라고한다. 또한 클러스터를 한국어로 바꾸면 군집화가 된다.(~링이 되어야 하지 않을까) 그러니까 다 동일어로 보면 된다.</p>\n",
    "<p>데이터 간 유사도(거리) 측정방법 : 데이터 간 유사도를 측정하는 방법으로 유클리드 거리, 맨해튼 거리, 민코프스키 거리, 코사인 유사도 등이 있다. 이건 ... 수학관련 용어다.</p>\n"
   ]
  },
  {
   "cell_type": "markdown",
   "id": "785bb7ab",
   "metadata": {},
   "source": [
    "### 3.2.1 K-평균 군집화"
   ]
  },
  {
   "cell_type": "markdown",
   "id": "569c2700",
   "metadata": {},
   "source": [
    "<p>몇 개의 클러스터를 구성할지 사전에 알 수 있을 때 사용하면 좋다.</p>\n",
    "<img src='./image/k2-1.png'>\n",
    "<br>\n",
    "<p>아래는 위험한 경우를 보여준다.</p>\n",
    "<img src='./image/k2-2.png'>"
   ]
  },
  {
   "cell_type": "code",
   "execution_count": 2,
   "id": "96909531",
   "metadata": {},
   "outputs": [],
   "source": [
    "import pandas as pd\n",
    "from sklearn.preprocessing import MinMaxScaler # 어디 쓰일꼬\n",
    "from sklearn.cluster import KMeans\n",
    "import matplotlib.pyplot as plt"
   ]
  },
  {
   "cell_type": "code",
   "execution_count": 8,
   "id": "4a1fe34d",
   "metadata": {},
   "outputs": [
    {
     "data": {
      "text/html": [
       "<div>\n",
       "<style scoped>\n",
       "    .dataframe tbody tr th:only-of-type {\n",
       "        vertical-align: middle;\n",
       "    }\n",
       "\n",
       "    .dataframe tbody tr th {\n",
       "        vertical-align: top;\n",
       "    }\n",
       "\n",
       "    .dataframe thead th {\n",
       "        text-align: right;\n",
       "    }\n",
       "</style>\n",
       "<table border=\"1\" class=\"dataframe\">\n",
       "  <thead>\n",
       "    <tr style=\"text-align: right;\">\n",
       "      <th></th>\n",
       "      <th>Channel</th>\n",
       "      <th>Region</th>\n",
       "      <th>Fresh</th>\n",
       "      <th>Milk</th>\n",
       "      <th>Grocery</th>\n",
       "      <th>Frozen</th>\n",
       "      <th>Detergents_Paper</th>\n",
       "      <th>Delicassen</th>\n",
       "    </tr>\n",
       "  </thead>\n",
       "  <tbody>\n",
       "    <tr>\n",
       "      <th>0</th>\n",
       "      <td>2</td>\n",
       "      <td>3</td>\n",
       "      <td>12669</td>\n",
       "      <td>9656</td>\n",
       "      <td>7561</td>\n",
       "      <td>214</td>\n",
       "      <td>2674</td>\n",
       "      <td>1338</td>\n",
       "    </tr>\n",
       "    <tr>\n",
       "      <th>1</th>\n",
       "      <td>2</td>\n",
       "      <td>3</td>\n",
       "      <td>7057</td>\n",
       "      <td>9810</td>\n",
       "      <td>9568</td>\n",
       "      <td>1762</td>\n",
       "      <td>3293</td>\n",
       "      <td>1776</td>\n",
       "    </tr>\n",
       "    <tr>\n",
       "      <th>2</th>\n",
       "      <td>2</td>\n",
       "      <td>3</td>\n",
       "      <td>6353</td>\n",
       "      <td>8808</td>\n",
       "      <td>7684</td>\n",
       "      <td>2405</td>\n",
       "      <td>3516</td>\n",
       "      <td>7844</td>\n",
       "    </tr>\n",
       "    <tr>\n",
       "      <th>3</th>\n",
       "      <td>1</td>\n",
       "      <td>3</td>\n",
       "      <td>13265</td>\n",
       "      <td>1196</td>\n",
       "      <td>4221</td>\n",
       "      <td>6404</td>\n",
       "      <td>507</td>\n",
       "      <td>1788</td>\n",
       "    </tr>\n",
       "    <tr>\n",
       "      <th>4</th>\n",
       "      <td>2</td>\n",
       "      <td>3</td>\n",
       "      <td>22615</td>\n",
       "      <td>5410</td>\n",
       "      <td>7198</td>\n",
       "      <td>3915</td>\n",
       "      <td>1777</td>\n",
       "      <td>5185</td>\n",
       "    </tr>\n",
       "  </tbody>\n",
       "</table>\n",
       "</div>"
      ],
      "text/plain": [
       "   Channel  Region  Fresh  Milk  Grocery  Frozen  Detergents_Paper  Delicassen\n",
       "0        2       3  12669  9656     7561     214              2674        1338\n",
       "1        2       3   7057  9810     9568    1762              3293        1776\n",
       "2        2       3   6353  8808     7684    2405              3516        7844\n",
       "3        1       3  13265  1196     4221    6404               507        1788\n",
       "4        2       3  22615  5410     7198    3915              1777        5185"
      ]
     },
     "execution_count": 8,
     "metadata": {},
     "output_type": "execute_result"
    }
   ],
   "source": [
    "data = pd.read_csv('./data/sales data.csv')\n",
    "data.head()"
   ]
  },
  {
   "cell_type": "markdown",
   "id": "da2cf164",
   "metadata": {},
   "source": [
    "Channel : 고객채널, 소매채널(명)<br>\n",
    "Region : 고객지역(명)<br>\n",
    "Fresh : 신선한 제품에 대한 연간 지출(연)<br>\n",
    "Mile : 유제품에 대한 연간 지출(연)<br>\n",
    "Grocery : 식료품에 대한 연간 지출(연)<br>\n",
    "Frozen : 냉동식품에 대한 연간 지출(연)<br>\n",
    "Detergents_Paper : 세제 및 종이 제품에 대한 연간 지출(연)<br>\n",
    "Delicassen : 조제 식품에 대한 연간 지출(연)<br>\n",
    "<img src='./image/k2-3.png'>"
   ]
  },
  {
   "cell_type": "code",
   "execution_count": 9,
   "id": "aa356574",
   "metadata": {},
   "outputs": [],
   "source": [
    "# 데이터의 형태에 따라 연속형와 명목성 데이터로 분류한다.\n",
    "categorical_features =  ['Channel', 'Region']\n",
    "continous_features = ['Fresh', 'Milk', 'Grocery', 'Frozen', 'Detergents_Paper', 'Delicassen']"
   ]
  },
  {
   "cell_type": "code",
   "execution_count": 11,
   "id": "9553bf12",
   "metadata": {},
   "outputs": [
    {
     "data": {
      "text/html": [
       "<div>\n",
       "<style scoped>\n",
       "    .dataframe tbody tr th:only-of-type {\n",
       "        vertical-align: middle;\n",
       "    }\n",
       "\n",
       "    .dataframe tbody tr th {\n",
       "        vertical-align: top;\n",
       "    }\n",
       "\n",
       "    .dataframe thead th {\n",
       "        text-align: right;\n",
       "    }\n",
       "</style>\n",
       "<table border=\"1\" class=\"dataframe\">\n",
       "  <thead>\n",
       "    <tr style=\"text-align: right;\">\n",
       "      <th></th>\n",
       "      <th>Fresh</th>\n",
       "      <th>Milk</th>\n",
       "      <th>Grocery</th>\n",
       "      <th>Frozen</th>\n",
       "      <th>Detergents_Paper</th>\n",
       "      <th>Delicassen</th>\n",
       "      <th>Channel_1</th>\n",
       "      <th>Channel_2</th>\n",
       "      <th>Region_1</th>\n",
       "      <th>Region_2</th>\n",
       "      <th>Region_3</th>\n",
       "    </tr>\n",
       "  </thead>\n",
       "  <tbody>\n",
       "    <tr>\n",
       "      <th>0</th>\n",
       "      <td>12669</td>\n",
       "      <td>9656</td>\n",
       "      <td>7561</td>\n",
       "      <td>214</td>\n",
       "      <td>2674</td>\n",
       "      <td>1338</td>\n",
       "      <td>0</td>\n",
       "      <td>1</td>\n",
       "      <td>0</td>\n",
       "      <td>0</td>\n",
       "      <td>1</td>\n",
       "    </tr>\n",
       "    <tr>\n",
       "      <th>1</th>\n",
       "      <td>7057</td>\n",
       "      <td>9810</td>\n",
       "      <td>9568</td>\n",
       "      <td>1762</td>\n",
       "      <td>3293</td>\n",
       "      <td>1776</td>\n",
       "      <td>0</td>\n",
       "      <td>1</td>\n",
       "      <td>0</td>\n",
       "      <td>0</td>\n",
       "      <td>1</td>\n",
       "    </tr>\n",
       "    <tr>\n",
       "      <th>2</th>\n",
       "      <td>6353</td>\n",
       "      <td>8808</td>\n",
       "      <td>7684</td>\n",
       "      <td>2405</td>\n",
       "      <td>3516</td>\n",
       "      <td>7844</td>\n",
       "      <td>0</td>\n",
       "      <td>1</td>\n",
       "      <td>0</td>\n",
       "      <td>0</td>\n",
       "      <td>1</td>\n",
       "    </tr>\n",
       "    <tr>\n",
       "      <th>3</th>\n",
       "      <td>13265</td>\n",
       "      <td>1196</td>\n",
       "      <td>4221</td>\n",
       "      <td>6404</td>\n",
       "      <td>507</td>\n",
       "      <td>1788</td>\n",
       "      <td>1</td>\n",
       "      <td>0</td>\n",
       "      <td>0</td>\n",
       "      <td>0</td>\n",
       "      <td>1</td>\n",
       "    </tr>\n",
       "    <tr>\n",
       "      <th>4</th>\n",
       "      <td>22615</td>\n",
       "      <td>5410</td>\n",
       "      <td>7198</td>\n",
       "      <td>3915</td>\n",
       "      <td>1777</td>\n",
       "      <td>5185</td>\n",
       "      <td>0</td>\n",
       "      <td>1</td>\n",
       "      <td>0</td>\n",
       "      <td>0</td>\n",
       "      <td>1</td>\n",
       "    </tr>\n",
       "  </tbody>\n",
       "</table>\n",
       "</div>"
      ],
      "text/plain": [
       "   Fresh  Milk  Grocery  Frozen  Detergents_Paper  Delicassen  Channel_1  \\\n",
       "0  12669  9656     7561     214              2674        1338          0   \n",
       "1   7057  9810     9568    1762              3293        1776          0   \n",
       "2   6353  8808     7684    2405              3516        7844          0   \n",
       "3  13265  1196     4221    6404               507        1788          1   \n",
       "4  22615  5410     7198    3915              1777        5185          0   \n",
       "\n",
       "   Channel_2  Region_1  Region_2  Region_3  \n",
       "0          1         0         0         1  \n",
       "1          1         0         0         1  \n",
       "2          1         0         0         1  \n",
       "3          0         0         0         1  \n",
       "4          1         0         0         1  "
      ]
     },
     "execution_count": 11,
     "metadata": {},
     "output_type": "execute_result"
    }
   ],
   "source": [
    "for col in categorical_features:\n",
    "    dummies = pd.get_dummies(data[col], prefix=col) # 명목형 데이터는 판다스의 get_dummies()로 바이너리로 변환\n",
    "    data = pd.concat([data, dummies], axis=1)\n",
    "    data.drop(col, axis=1, inplace=True) # inplace는 뭐지\n",
    "data.head()"
   ]
  },
  {
   "cell_type": "markdown",
   "id": "6ea7943a",
   "metadata": {},
   "source": [
    "<p>연속형 데이터의 모든 특성에 동일하게 중요성을 부여하기 위해 스케일링을 적용한다. 이는 데이터 범위가 다르기 때문에 범위에 따라 중요도가 달라질 수 있는 것(예를 들어 1000원과 1억원이 있을 때 1000원의 데이터는 무시)을 방지하기 위함이다. 일정함 범위를 유지하도록 사이킷 런의 MinMaxScalar()메서드를 사용합니다.</p>"
   ]
  },
  {
   "cell_type": "code",
   "execution_count": 13,
   "id": "1ff4a2b3",
   "metadata": {},
   "outputs": [],
   "source": [
    "mms = MinMaxScaler()\n",
    "mms.fit(data)\n",
    "data_trasformed = mms.transform(data) # 데이터 전처리 완료"
   ]
  },
  {
   "cell_type": "code",
   "execution_count": 16,
   "id": "0815bb1d",
   "metadata": {},
   "outputs": [
    {
     "data": {
      "image/png": "[encoded data removed]",
      "text/plain": [
       "<Figure size 432x288 with 1 Axes>"
      ]
     },
     "metadata": {
      "needs_background": "light"
     },
     "output_type": "display_data"
    }
   ],
   "source": [
    "# 적당한 K값을 찾아보자.\n",
    "\n",
    "Sum_of_squared_distance = []\n",
    "K = range(1,15)\n",
    "\n",
    "for k in K : # \n",
    "    km = KMeans(n_clusters=k)\n",
    "    km = km.fit(data_trasformed)\n",
    "    Sum_of_squared_distance.append(km.inertia_) # 뭘 어펜드하니\n",
    "    \n",
    "plt.plot(K, Sum_of_squared_distance, 'bx-')\n",
    "plt.xlabel('k')\n",
    "plt.ylabel('Sum_of_squared_distance')\n",
    "plt.title('Optimal K')\n",
    "plt.show()\n"
   ]
  },
  {
   "cell_type": "markdown",
   "id": "8507c367",
   "metadata": {},
   "source": [
    "<p>해설</p>\n",
    "<img src='./image/k2-4.png'>"
   ]
  }
 ],
 "metadata": {
  "kernelspec": {
   "display_name": "TF_TEST",
   "language": "python",
   "name": "tf_test"
  },
  "language_info": {
   "codemirror_mode": {
    "name": "ipython",
    "version": 3
   },
   "file_extension": ".py",
   "mimetype": "text/x-python",
   "name": "python",
   "nbconvert_exporter": "python",
   "pygments_lexer": "ipython3",
   "version": "3.9.12"
  }
 },
 "nbformat": 4,
 "nbformat_minor": 5
}
