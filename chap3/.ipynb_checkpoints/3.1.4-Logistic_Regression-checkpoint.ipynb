{
 "cells": [
  {
   "cell_type": "markdown",
   "id": "a2c5227a",
   "metadata": {},
   "source": [
    "## 3.1.4 로지스틱 회귀와 선형 회귀"
   ]
  },
  {
   "cell_type": "markdown",
   "id": "5308f772",
   "metadata": {},
   "source": [
    "<p>회귀란 변수가 두개가 주어졌을 때 한 변수에서 다른 변수를 예측 하거나ㅣ 두 변수의 관계를 규명하는 데 사용하는 방법이다.</p>\n",
    "<p>  독립변수(예측변수) : 영향을 미칠 것으로 예상되는 변수</p>\n",
    "<p>  독립변수(기준변수) : 영향을 받을 것으로 예상되는 변수</p>"
   ]
  },
  {
   "cell_type": "markdown",
   "id": "83deb6a8",
   "metadata": {},
   "source": [
    "### 로지틱스 회귀"
   ]
  },
  {
   "cell_type": "markdown",
   "id": "3c8b017b",
   "metadata": {},
   "source": [
    "<p>사용하는 이유 ; 주어진 데이터에 대한 분류</p>\n",
    "<p>사용하면 좋은 이유 : 로지스틱 회귀 분석은 주어진 데이터에 대한 확신이 없거나(예를 들어 분류 결과에 대해 확신이 없을 때) 향후 추가적으로 훈련 데이터 셋을 수집하여 모델을 훈련시킬 수 있는 환경에서 사용하면 유용하다.</p>\n",
    "<p> + 분석하고자 하는 대상들이 두 집단 혹은 그 이상의 집단으로 나뉘어진 경우, 개별 관측치들이 어느 집단에 분류될 수 있는지 분석하고 이를 예측하는 모형을 개발하는데 사용되는 통계 기법입니다. 따라서 일반적인 회귀분석과는 차이가 있다."
   ]
  },
  {
   "cell_type": "markdown",
   "id": "d6340c41",
   "metadata": {},
   "source": [
    "<table>\n",
    "    <thead>\n",
    "        <tr>\n",
    "            <th>구분</th>\n",
    "            <th>일반적인 회귀 분석</th>\n",
    "            <th>로지스틱 회귀 분석</th>\n",
    "        </tr>\n",
    "    </thead>\n",
    "    <tbody>\n",
    "        <tr>\n",
    "            <td>종속 변수</td>\n",
    "            <td>연속형 변수</td>\n",
    "            <td>이산형 변수</td>\n",
    "        </tr>\n",
    "        <tr>\n",
    "            <td>모형 탐색 방법</td>\n",
    "            <td>최소제곱법</td>\n",
    "            <td>최대우도법</td>\n",
    "        </tr>\n",
    "        <tr>\n",
    "            <td>모형 검정</td>\n",
    "            <td>F-테스트, t-테스트</td>\n",
    "            <td>x^2 테스트</td>\n",
    "        </tr>\n",
    "    </tbody>\n",
    "<table>"
   ]
  },
  {
   "cell_type": "markdown",
   "id": "61d690c6",
   "metadata": {},
   "source": [
    "<img src='./image/l1.png'>"
   ]
  },
  {
   "cell_type": "markdown",
   "id": "c26d4bb9",
   "metadata": {},
   "source": [
    "<p>또한, 로지스틱 회귀 분석은 다음 절차에 따라 분석을 진행한다.</p>\n",
    "<p>1단계 : 각 집단에 속하는 확률 추정치를 예측한다. 이때 추정치는 이진 분류의 경우 집단 1에 속하는 확률 P(Y=1)로 구한다.</p>\n",
    "<p>2단계 : 분류 기준 값(cut-off)을 설정한 후 특정 범주로 분류한다.</p>    "
   ]
  },
  {
   "cell_type": "markdown",
   "id": "f6c73732",
   "metadata": {},
   "source": [
    "<img src='./image/l2.png'>"
   ]
  },
  {
   "cell_type": "markdown",
   "id": "e7c36c97",
   "metadata": {},
   "source": [
    "### 데이터 준비"
   ]
  },
  {
   "cell_type": "code",
   "execution_count": 5,
   "id": "102d0d3a",
   "metadata": {},
   "outputs": [
    {
     "name": "stdout",
     "output_type": "stream",
     "text": [
      "Image Data Shape (1797, 64)\n",
      "Label Data Shape (1797,)\n"
     ]
    }
   ],
   "source": [
    "from sklearn.datasets import load_digits\n",
    "digits = load_digits() # 사이킷 런에서 제공하는 mnist같은 건가\n",
    "\n",
    "# numpy\n",
    "print('Image Data Shape', digits.data.shape)\n",
    "print('Label Data Shape', digits.target.shape)"
   ]
  },
  {
   "cell_type": "code",
   "execution_count": 8,
   "id": "dfb1cb96",
   "metadata": {},
   "outputs": [],
   "source": [
    "import numpy as np\n",
    "import matplotlib.pyplot as plt"
   ]
  },
  {
   "cell_type": "code",
   "execution_count": 11,
   "id": "0d851e77",
   "metadata": {},
   "outputs": [
    {
     "ename": "SyntaxError",
     "evalue": "invalid syntax (4134735705.py, line 3)",
     "output_type": "error",
     "traceback": [
      "\u001b[0;36m  Input \u001b[0;32mIn [11]\u001b[0;36m\u001b[0m\n\u001b[0;31m    for\u001b[0m\n\u001b[0m        ^\u001b[0m\n\u001b[0;31mSyntaxError\u001b[0m\u001b[0;31m:\u001b[0m invalid syntax\n"
     ]
    }
   ],
   "source": [
    "plt.figure(figsize=(20,4))\n",
    "\n",
    "for idx, (iamge_np, label) in enumerate(zip(digits.data[0:5], digits.target[0:5])) :\n",
    "    plt.subplot(1,5, idx+1)\n",
    "    plt.imshow()"
   ]
  },
  {
   "cell_type": "code",
   "execution_count": null,
   "id": "7fe3e0ae",
   "metadata": {},
   "outputs": [],
   "source": []
  }
 ],
 "metadata": {
  "kernelspec": {
   "display_name": "TF_TEST",
   "language": "python",
   "name": "tf_test"
  },
  "language_info": {
   "codemirror_mode": {
    "name": "ipython",
    "version": 3
   },
   "file_extension": ".py",
   "mimetype": "text/x-python",
   "name": "python",
   "nbconvert_exporter": "python",
   "pygments_lexer": "ipython3",
   "version": "3.9.12"
  }
 },
 "nbformat": 4,
 "nbformat_minor": 5
}
